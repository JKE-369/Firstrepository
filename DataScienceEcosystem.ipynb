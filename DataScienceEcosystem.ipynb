{
 "cells": [
  {
   "cell_type": "markdown",
   "id": "f49ef949-d020-4322-a21a-cbfcb1352788",
   "metadata": {},
   "source": [
    "# Data Science Tools and Ecosystem"
   ]
  },
  {
   "cell_type": "markdown",
   "id": "45f6c2c3-edad-4284-8657-666073bb91e5",
   "metadata": {},
   "source": [
    "In this notebook, Data Science Tools and Ecosystem are summarized."
   ]
  },
  {
   "cell_type": "markdown",
   "id": "dc0d8b21-3a11-4ccf-a705-18d5ddba5cd7",
   "metadata": {},
   "source": [
    "**Objectives:** \n",
    "+ Understand popular languages for Data Science.  \n",
    "+ Learn about key Data Science libraries.\n",
    "+ Understand Data Science tools.\n",
    "+ multiply and add numbers using mathematical expressions.\n",
    "+ Convert minutes to hours using mathematical expressions.  "
   ]
  },
  {
   "cell_type": "markdown",
   "id": "8d39636f-ec21-4a34-8606-4d73d0554c99",
   "metadata": {},
   "source": [
    "Some of the popular languages that Data Scientists use are:\n",
    "1. Python\n",
    "2. R\n",
    "3. sql "
   ]
  },
  {
   "cell_type": "markdown",
   "id": "04bab060-21fd-4a21-a908-566530aeffbc",
   "metadata": {},
   "source": [
    "Some of the commonly used libraries used by Data Scientists include:\n",
    "1. Matplotlib\n",
    "2. Plotly\n",
    "3. Numpy\n",
    "4. Tensorflow"
   ]
  },
  {
   "cell_type": "markdown",
   "id": "413bf853-db56-4220-a995-e03507e5f3f9",
   "metadata": {},
   "source": [
    "|Data Science Tools|\n",
    "|---------------------|\n",
    "| Jupyter Notebook |\n",
    "| VS Code |\n",
    "| RStudio |"
   ]
  },
  {
   "cell_type": "markdown",
   "id": "6eae26be-603c-4e94-8783-10552beb42ee",
   "metadata": {},
   "source": [
    "### Below are a few examples of evaluating arithmetic expressions in Python"
   ]
  },
  {
   "cell_type": "code",
   "execution_count": 1,
   "id": "eb002b2f-a182-4ecc-8f98-c5920f922ebb",
   "metadata": {},
   "outputs": [
    {
     "data": {
      "text/plain": [
       "17"
      ]
     },
     "execution_count": 1,
     "metadata": {},
     "output_type": "execute_result"
    }
   ],
   "source": [
    "# This a simple arithmetic expression to mutiply then add integers\n",
    "(3*4)+5"
   ]
  },
  {
   "cell_type": "code",
   "execution_count": 3,
   "id": "28d60255-3968-4db5-9fd8-e356931716ef",
   "metadata": {},
   "outputs": [
    {
     "name": "stdout",
     "output_type": "stream",
     "text": [
      "3.3333333333333335\n"
     ]
    }
   ],
   "source": [
    "# This will convert 200 minutes to hours by diving by 60\n",
    "hours = 200/60\n",
    "print (hours)"
   ]
  },
  {
   "cell_type": "markdown",
   "id": "d68a5331-0988-419c-a3ee-0f6c264b2ea0",
   "metadata": {},
   "source": [
    "## Author \n",
    "Joel Kuriyen Elias"
   ]
  },
  {
   "cell_type": "markdown",
   "id": "f2a02f5d-6528-4081-8a1e-0398662db9c8",
   "metadata": {},
   "source": []
  }
 ],
 "metadata": {
  "kernelspec": {
   "display_name": "Python 3 (ipykernel)",
   "language": "python",
   "name": "python3"
  },
  "language_info": {
   "codemirror_mode": {
    "name": "ipython",
    "version": 3
   },
   "file_extension": ".py",
   "mimetype": "text/x-python",
   "name": "python",
   "nbconvert_exporter": "python",
   "pygments_lexer": "ipython3",
   "version": "3.12.8"
  }
 },
 "nbformat": 4,
 "nbformat_minor": 5
}
